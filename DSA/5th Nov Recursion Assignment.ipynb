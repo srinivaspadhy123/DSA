{
 "cells": [
  {
   "cell_type": "code",
   "execution_count": null,
   "id": "bf8150ee",
   "metadata": {},
   "outputs": [],
   "source": [
    "# Q.2 Given two strings word1 and word2, return the minimum number of operations required to convert word1 to word2.\n",
    "\n",
    "# Example 1:\n",
    "\n",
    "# Input: word1 = \"horse\", word2 = \"ros\"\n",
    "#  Output: 3\n",
    "\n",
    "# Explanation:\n",
    "# horse -> rorse (replace 'h' with 'r')\n",
    "#  rorse -> rose (remove 'r')\n",
    "\n",
    "# rose -> ros (remove 'e')\n"
   ]
  },
  {
   "cell_type": "code",
   "execution_count": 2,
   "id": "998f8979",
   "metadata": {},
   "outputs": [
    {
     "data": {
      "text/plain": [
       "3"
      ]
     },
     "execution_count": 2,
     "metadata": {},
     "output_type": "execute_result"
    }
   ],
   "source": [
    "def count(i, j):\n",
    "    if i == 0:\n",
    "        return j  \n",
    "    if j == 0:\n",
    "        return i  \n",
    "\n",
    "    if word1[i - 1] == word2[j - 1]:\n",
    "        return count(i - 1, j - 1)  \n",
    "\n",
    "    insert_op = count(i, j - 1) + 1  \n",
    "    delete_op = count(i - 1, j) + 1  \n",
    "    replace_op = count(i - 1, j - 1) + 1  \n",
    "    return min(insert_op, delete_op, replace_op)\n",
    "word1=\"horse\"\n",
    "word2=\"ros\"\n",
    "helper(len(word1), len(word2))"
   ]
  },
  {
   "cell_type": "code",
   "execution_count": 6,
   "id": "e7d41b8b",
   "metadata": {},
   "outputs": [],
   "source": [
    "# Q. 3 Print the max value of the array [ 13, 1, -3, 22, 5].\n"
   ]
  },
  {
   "cell_type": "code",
   "execution_count": 11,
   "id": "293cea20",
   "metadata": {},
   "outputs": [
    {
     "name": "stdout",
     "output_type": "stream",
     "text": [
      "22\n"
     ]
    }
   ],
   "source": [
    "def max_value_recursive(arr, n):\n",
    "    if n == 1:\n",
    "        return arr[0]    \n",
    "    max_rest = max_value_recursive(arr[1:], n - 1)   \n",
    "    return max(arr[0], max_rest)\n",
    "arr = [13, 1, -3, 22, 5]\n",
    "result = max_value_recursive(arr, len(arr))\n",
    "print(result)"
   ]
  },
  {
   "cell_type": "code",
   "execution_count": 7,
   "id": "c2d0bd48",
   "metadata": {},
   "outputs": [],
   "source": [
    "# Q.4 Find the sum of the values of the array [92, 23, 15, -20, 10]."
   ]
  },
  {
   "cell_type": "code",
   "execution_count": 10,
   "id": "930bc7e0",
   "metadata": {},
   "outputs": [
    {
     "name": "stdout",
     "output_type": "stream",
     "text": [
      "120\n"
     ]
    }
   ],
   "source": [
    "def array_sum_recursive(arr, n):\n",
    "    if n == 0:\n",
    "        return 0    \n",
    "    return arr[0] + array_sum_recursive(arr[1:], n - 1)\n",
    "arr = [92, 23, 15, -20, 10]\n",
    "sum_of_values = array_sum_recursive(arr, len(arr))\n",
    "print(sum_of_values)"
   ]
  },
  {
   "cell_type": "code",
   "execution_count": 8,
   "id": "09d6925a",
   "metadata": {},
   "outputs": [],
   "source": [
    "# Q.5 Given a number n. Print if it is an armstrong number or not.An armstrong number is a number if the sum of every digit in that number raised to the power of total digits in that number is equal to the number.\n",
    "\n",
    "# Example:153=1^3+5^3+3^3=1+125+27=153hence153isanarmstrongnumber.(Easy)\n",
    "\n",
    "# Input1 : 153\n",
    "#  Output1 : Yes\n",
    "\n",
    "# Input 2 : 134\n",
    "#  Output2 : No"
   ]
  },
  {
   "cell_type": "code",
   "execution_count": 12,
   "id": "44978abf",
   "metadata": {},
   "outputs": [
    {
     "name": "stdout",
     "output_type": "stream",
     "text": [
      "Output 1: Yes\n",
      "Output 2: No\n"
     ]
    }
   ],
   "source": [
    "def count_digits(n):\n",
    "    if n == 0:\n",
    "        return 0\n",
    "    return 1 + count_digits(n // 10)\n",
    "\n",
    "def is_armstrong_recursive(n, original_n):\n",
    "    if n < 10:\n",
    "        return n ** count_digits(original_n)\n",
    "    total_digits = count_digits(original_n)\n",
    "    last_digit = n % 10\n",
    "    remaining_digits_sum = is_armstrong_recursive(n // 10, original_n)\n",
    "    return remaining_digits_sum + (last_digit ** total_digits)\n",
    "\n",
    "def is_armstrong_number(n):\n",
    "    return is_armstrong_recursive(n, n) == n\n",
    "\n",
    "input1 = 153\n",
    "output1 = is_armstrong_number(input1)\n",
    "print(\"Output 1:\", \"Yes\" if output1 else \"No\")\n",
    "\n",
    "input2 = 134\n",
    "output2 = is_armstrong_number(input2)\n",
    "print(\"Output 2:\", \"Yes\" if output2 else \"No\")\n"
   ]
  }
 ],
 "metadata": {
  "kernelspec": {
   "display_name": "Python 3 (ipykernel)",
   "language": "python",
   "name": "python3"
  },
  "language_info": {
   "codemirror_mode": {
    "name": "ipython",
    "version": 3
   },
   "file_extension": ".py",
   "mimetype": "text/x-python",
   "name": "python",
   "nbconvert_exporter": "python",
   "pygments_lexer": "ipython3",
   "version": "3.11.3"
  }
 },
 "nbformat": 4,
 "nbformat_minor": 5
}
