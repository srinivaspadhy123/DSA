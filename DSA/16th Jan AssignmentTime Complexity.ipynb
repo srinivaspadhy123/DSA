{
 "cells": [
  {
   "cell_type": "raw",
   "id": "75e378d3",
   "metadata": {},
   "source": [
    "Problem 1 :\n",
    "\n",
    "\n",
    "def quicksort(arr):\n",
    " if len(arr) <= 1:\n",
    " return arr\n",
    "\n",
    "pivot = arr[len(arr) // 2]\n",
    "\n",
    "left = [x for x in arr if x < pivot]\n",
    "\n",
    "middle = [x for x in arr if x == pivot]\n",
    "\n",
    "right = [x for x in arr if x > pivot]\n",
    "\n",
    "return quicksort(left) + middle + quicksort(right)\n",
    "\n",
    "\n"
   ]
  },
  {
   "cell_type": "code",
   "execution_count": 3,
   "id": "b6f3abb8",
   "metadata": {},
   "outputs": [],
   "source": [
    "# Answer\n",
    "# O(n^2)"
   ]
  },
  {
   "cell_type": "raw",
   "id": "ef3c1be5",
   "metadata": {},
   "source": [
    "Problem 2 :\n",
    "\n",
    "\n",
    "def nested_loop_example(matrix):\n",
    " rows, cols = len(matrix), len(matrix[0])\n",
    " total = 0\n",
    "\n",
    "for i in range(rows):\n",
    "\n",
    "for j in range(cols):\n",
    " total += matrix[i][j]\n",
    "\n",
    "return total\n",
    "\n",
    "\n",
    "\n"
   ]
  },
  {
   "cell_type": "raw",
   "id": "ac3ca021",
   "metadata": {},
   "source": [
    "Answer:\n",
    "O(m×n)"
   ]
  },
  {
   "cell_type": "raw",
   "id": "8f885e44",
   "metadata": {},
   "source": [
    "Problem 3 :\n",
    "\n",
    "\n",
    "def example_function(arr):\n",
    " result = 0\n",
    "\n",
    "for element in arr:\n",
    "\n",
    "result += element\n",
    " return result\n",
    "\n",
    "\n",
    "\n",
    "\n",
    "\n",
    "\n"
   ]
  },
  {
   "cell_type": "raw",
   "id": "64ad4927",
   "metadata": {},
   "source": [
    "Answer:\n",
    "O(n)"
   ]
  },
  {
   "cell_type": "raw",
   "id": "76b95ba8",
   "metadata": {},
   "source": [
    "\n",
    "Problem 4 :\n",
    "\n",
    "\n",
    "def longest_increasing_subsequence(nums):\n",
    " n = len(nums)\n",
    "\n",
    "lis = [1] * n\n",
    "\n",
    "for i in range(1, n):\n",
    "\n",
    "for j in range(0, i):\n",
    "\n",
    "if nums[i] > nums[j] and lis[i] < lis[j] + 1:\n",
    "\n",
    "lis[i] = lis[j] + 1\n",
    " return max(lis)"
   ]
  },
  {
   "cell_type": "raw",
   "id": "e3dfd586",
   "metadata": {},
   "source": [
    "Answer:\n",
    "O(n^2)"
   ]
  },
  {
   "cell_type": "raw",
   "id": "e0a07b39",
   "metadata": {},
   "source": [
    "def mysterious_function(arr):\n",
    "\n",
    "n = len(arr)\n",
    " result = 0\n",
    "\n",
    "for i in range(n):\n",
    "\n",
    "for j in range(i, n):\n",
    "\n",
    "result += arr[i] * arr[j]\n",
    "\n",
    "return result\n"
   ]
  },
  {
   "cell_type": "raw",
   "id": "777f6865",
   "metadata": {},
   "source": [
    "Answer:\n",
    "O(n^2)"
   ]
  },
  {
   "cell_type": "code",
   "execution_count": null,
   "id": "20c2fa04",
   "metadata": {},
   "outputs": [],
   "source": [
    "# Problem 6 : Sum of Digits\n",
    "\n",
    "# Write a recursive function to calculate the sum of digits of a given positive integer.\n",
    "# sum_of_digits(123) -> 6"
   ]
  },
  {
   "cell_type": "code",
   "execution_count": 13,
   "id": "0e71347a",
   "metadata": {},
   "outputs": [
    {
     "name": "stdout",
     "output_type": "stream",
     "text": [
      "6\n"
     ]
    }
   ],
   "source": [
    "def sum_of_digits(n):\n",
    "    if n < 10:\n",
    "        return n    \n",
    "    return n % 10 + sum_of_digits(n // 10)\n",
    "result = sum_of_digits(123)\n",
    "print(result)"
   ]
  },
  {
   "cell_type": "code",
   "execution_count": null,
   "id": "08465c4f",
   "metadata": {},
   "outputs": [],
   "source": [
    "# Problem 7: Fibonacci Series\n",
    "\n",
    "# Write a recursive function to generate the first n numbers of the Fibonacci series.\n",
    "# fibonacci_series(6) -> [0, 1, 1, 2, 3, 5]"
   ]
  },
  {
   "cell_type": "code",
   "execution_count": 11,
   "id": "0b72847c",
   "metadata": {},
   "outputs": [
    {
     "name": "stdout",
     "output_type": "stream",
     "text": [
      "[0, 1, 1, 2, 3, 5]\n"
     ]
    }
   ],
   "source": [
    "def fibonacci_series(n):\n",
    "    if n <= 0:\n",
    "        return []\n",
    "    elif n == 1:\n",
    "        return [0]\n",
    "    elif n == 2:\n",
    "        return [0, 1]\n",
    "    else:\n",
    "        series = fibonacci_series(n - 1)\n",
    "        series.append(series[-1] + series[-2])\n",
    "        return series\n",
    "\n",
    "result = fibonacci_series(6)\n",
    "print(result)\n"
   ]
  },
  {
   "cell_type": "code",
   "execution_count": null,
   "id": "abf75cdb",
   "metadata": {},
   "outputs": [],
   "source": [
    "# Problem 8 : Subset Sum\n",
    "\n",
    "# Given a set of positive integers and a target sum, write a recursive function to determine if there exists a subset of the integers that adds up to the target sum.\n",
    "# subset_sum([3, 34, 4, 12, 5, 2], 9) -> True"
   ]
  },
  {
   "cell_type": "code",
   "execution_count": 12,
   "id": "f563165b",
   "metadata": {},
   "outputs": [
    {
     "name": "stdout",
     "output_type": "stream",
     "text": [
      "True\n"
     ]
    }
   ],
   "source": [
    "def subset_sum(arr, target_sum):\n",
    "    if target_sum == 0:\n",
    "        return True\n",
    "    if not arr:\n",
    "        return False\n",
    "\n",
    "    include_current = subset_sum(arr[1:], target_sum - arr[0])\n",
    "    exclude_current = subset_sum(arr[1:], target_sum)\n",
    "\n",
    "    return include_current or exclude_current\n",
    "\n",
    "result = subset_sum([3, 34, 4, 12, 5, 2], 9)\n",
    "print(result)\n"
   ]
  },
  {
   "cell_type": "code",
   "execution_count": null,
   "id": "ac283eb6",
   "metadata": {},
   "outputs": [],
   "source": [
    "# Problem 9: Word Break\n",
    "\n",
    "# Given a non-empty string and a dictionary of words, write a recursive function to determine if the string can be segmented into a space-separated sequence of dictionary words.\n",
    "# word_break(\"leetcode\", [\"leet\", \"code\"]) -> True"
   ]
  },
  {
   "cell_type": "code",
   "execution_count": 9,
   "id": "7f946372",
   "metadata": {},
   "outputs": [
    {
     "name": "stdout",
     "output_type": "stream",
     "text": [
      "True\n"
     ]
    }
   ],
   "source": [
    "def word_break(s, word_dict):\n",
    "    n = len(s)\n",
    "    \n",
    "    if n == 0:\n",
    "        return True\n",
    "    \n",
    "    for i in range(1, n + 1):\n",
    "        prefix = s[:i]\n",
    "        if prefix in word_dict and word_break(s[i:], word_dict):\n",
    "            return True\n",
    "    \n",
    "    return False\n",
    "\n",
    "result = word_break(\"leetcode\", [\"leet\", \"code\"])\n",
    "print(result)\n"
   ]
  }
 ],
 "metadata": {
  "kernelspec": {
   "display_name": "Python 3 (ipykernel)",
   "language": "python",
   "name": "python3"
  },
  "language_info": {
   "codemirror_mode": {
    "name": "ipython",
    "version": 3
   },
   "file_extension": ".py",
   "mimetype": "text/x-python",
   "name": "python",
   "nbconvert_exporter": "python",
   "pygments_lexer": "ipython3",
   "version": "3.11.3"
  }
 },
 "nbformat": 4,
 "nbformat_minor": 5
}
