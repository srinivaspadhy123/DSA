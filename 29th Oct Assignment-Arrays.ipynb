{
 "cells": [
  {
   "cell_type": "code",
   "execution_count": 9,
   "id": "a2d2de84",
   "metadata": {},
   "outputs": [],
   "source": [
    "# 1. Given an array, check if it contains any duplicates or not. arr=[1,2,4,2,5,9]\n",
    "# Output = True"
   ]
  },
  {
   "cell_type": "code",
   "execution_count": 12,
   "id": "bc34164f",
   "metadata": {},
   "outputs": [
    {
     "name": "stdout",
     "output_type": "stream",
     "text": [
      "Output: True\n"
     ]
    }
   ],
   "source": [
    "def duplicates(arr):\n",
    "    temp = set()\n",
    "    for num in arr:\n",
    "        if num in temp:\n",
    "            return True\n",
    "        temp.add(num)\n",
    "\n",
    "    return False\n",
    "\n",
    "arr = [1, 2, 4, 2, 5, 9]\n",
    "output = duplicates(arr)\n",
    "print(\"Output:\", output)"
   ]
  },
  {
   "cell_type": "code",
   "execution_count": 8,
   "id": "232ec2c5",
   "metadata": {},
   "outputs": [],
   "source": [
    "# 2. Given an array and an integer k, rotate the array to the right by k steps. arr=[1,2,3,4,5,6,7]k=3\n",
    "# Output=[5,6,7,1,2,3,4]"
   ]
  },
  {
   "cell_type": "code",
   "execution_count": 13,
   "id": "36d63842",
   "metadata": {},
   "outputs": [
    {
     "name": "stdout",
     "output_type": "stream",
     "text": [
      "Output: [5, 6, 7, 1, 2, 3, 4]\n"
     ]
    }
   ],
   "source": [
    "def rotate(arr,rot_arr,ei,k):\n",
    "    \n",
    "    if ei < 0 or k == 0:\n",
    "        return rot_arr\n",
    "    else:\n",
    "        rot_arr.pop()\n",
    "        rot_arr.insert(0,arr[ei])\n",
    "        return rotate(arr[0:ei],rot_arr,ei-1,k-1)\n",
    "arr = [1,2,3,4,5]\n",
    "k=4\n",
    "print(rotate(arr,[1,2,3,4,5],4,k%len(arr)))"
   ]
  },
  {
   "cell_type": "code",
   "execution_count": 7,
   "id": "ef87c22d",
   "metadata": {},
   "outputs": [],
   "source": [
    "# 3. Reverse the given array in-place, means without using any extra data structure. arr=[2,4,5,7,9,12]\n",
    "# Output=[12,9,7,5,4,2]"
   ]
  },
  {
   "cell_type": "code",
   "execution_count": 14,
   "id": "2c961f99",
   "metadata": {},
   "outputs": [
    {
     "name": "stdout",
     "output_type": "stream",
     "text": [
      "[1, 2, 3, 4, 5]\n"
     ]
    }
   ],
   "source": [
    "def reverse(arr,ei,rev_arr):\n",
    "    \n",
    "    if ei < 0:\n",
    "        return rev_arr\n",
    "    else:\n",
    "        rev_arr.append(arr[ei])\n",
    "        return reverse(arr[0:ei],ei-1,rev_arr)\n",
    "    \n",
    "print(reverse([5,4,3,2,1],4,[]))"
   ]
  },
  {
   "cell_type": "code",
   "execution_count": 6,
   "id": "469134d0",
   "metadata": {},
   "outputs": [],
   "source": [
    "# 4. Given an array of integers, find the maximum element in an array\n",
    "#  arr=[10,5,20,8,15]\n",
    "# Output = 20"
   ]
  },
  {
   "cell_type": "code",
   "execution_count": 16,
   "id": "ea2b4631",
   "metadata": {},
   "outputs": [
    {
     "name": "stdout",
     "output_type": "stream",
     "text": [
      "Output: 50\n"
     ]
    }
   ],
   "source": [
    "def find_maximum_recursive(arr, n):\n",
    "    if n == 1:\n",
    "        return arr[0]\n",
    "\n",
    "    max_rest = find_maximum_recursive(arr[1:], n - 1)\n",
    "    return arr[0] if arr[0] > max_rest else max_rest\n",
    "\n",
    "arr = [50, 5, 20, 8, 15]\n",
    "output = find_maximum_recursive(arr, len(arr))\n",
    "print(\"Output:\", output)"
   ]
  },
  {
   "cell_type": "code",
   "execution_count": 5,
   "id": "1589e1fd",
   "metadata": {},
   "outputs": [],
   "source": [
    "# 5. Given a sorted array, remove the duplicate element without using any extra data structure. arr=[1,1,2,2,2,3,3,4,4,4,5,5]\n",
    "# Output=[1,2,3,4,5]"
   ]
  },
  {
   "cell_type": "code",
   "execution_count": null,
   "id": "ad4a1a80",
   "metadata": {},
   "outputs": [],
   "source": []
  }
 ],
 "metadata": {
  "kernelspec": {
   "display_name": "Python 3 (ipykernel)",
   "language": "python",
   "name": "python3"
  },
  "language_info": {
   "codemirror_mode": {
    "name": "ipython",
    "version": 3
   },
   "file_extension": ".py",
   "mimetype": "text/x-python",
   "name": "python",
   "nbconvert_exporter": "python",
   "pygments_lexer": "ipython3",
   "version": "3.11.3"
  }
 },
 "nbformat": 4,
 "nbformat_minor": 5
}
