{
 "cells": [
  {
   "cell_type": "code",
   "execution_count": 3,
   "id": "41abe010",
   "metadata": {},
   "outputs": [],
   "source": [
    "# 1.Find the value of T(2) for the recurrence relation T(n) = 3T(n-1) + 12n, given that T(0)=5."
   ]
  },
  {
   "cell_type": "raw",
   "id": "31468d23",
   "metadata": {},
   "source": [
    "T(2)=105."
   ]
  },
  {
   "cell_type": "code",
   "execution_count": 4,
   "id": "e88aa989",
   "metadata": {},
   "outputs": [],
   "source": [
    "# 2. Given a recurrence relation, solve it using the substitution method:\n",
    "#  a.T(n)=T(n-1)+c\n",
    "\n",
    "# b. T(n) = 2T(n/2) + n\n",
    "\n",
    "# c. T(n) = 2T(n/2) + c\n",
    "\n",
    "# d.T(n)=T(n/2)+c\n"
   ]
  },
  {
   "cell_type": "raw",
   "id": "c48de219",
   "metadata": {},
   "source": [
    "a.T(n)=T(n-1)+c => T(n)=nc+k\n",
    "b.T(n) = 2T(n/2) + n => T(n)=nlogn+k\n",
    "c.T(n) = 2T(n/2) + c => T(n)=cn+k \n",
    "d.T(n)=T(n/2)+c => T(n)=2clogn+k"
   ]
  },
  {
   "cell_type": "code",
   "execution_count": 5,
   "id": "bdc7bf15",
   "metadata": {},
   "outputs": [],
   "source": [
    "# 3. Given a recurrence relation, solve it using the recursive tree approach:\n",
    "#  a. T(n) = 2T(n-1) +1\n",
    "# b. T(n) = 2T(n/2) + n"
   ]
  },
  {
   "cell_type": "raw",
   "id": "98b063cd",
   "metadata": {},
   "source": [
    "a.T(n) = 2T(n-1) +1 => T(n)=O(2^n)\n",
    "b.T(n) = 2T(n/2) + n => T(n)=O(nlogn)"
   ]
  }
 ],
 "metadata": {
  "kernelspec": {
   "display_name": "Python 3 (ipykernel)",
   "language": "python",
   "name": "python3"
  },
  "language_info": {
   "codemirror_mode": {
    "name": "ipython",
    "version": 3
   },
   "file_extension": ".py",
   "mimetype": "text/x-python",
   "name": "python",
   "nbconvert_exporter": "python",
   "pygments_lexer": "ipython3",
   "version": "3.11.3"
  }
 },
 "nbformat": 4,
 "nbformat_minor": 5
}
